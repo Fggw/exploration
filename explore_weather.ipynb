{
 "cells": [
  {
   "cell_type": "code",
   "execution_count": 2,
   "metadata": {
    "collapsed": false
   },
   "outputs": [],
   "source": [
    "import pandas as pd\n",
    "import numpy as np\n",
    "import matplotlib\n",
    "matplotlib.use('Agg')\n",
    "import matplotlib.pyplot as plt\n",
    "import seaborn as sns\n",
    "\n",
    "%matplotlib inline"
   ]
  },
  {
   "cell_type": "code",
   "execution_count": 7,
   "metadata": {
    "collapsed": true
   },
   "outputs": [],
   "source": [
    "weather_df = pd.read_csv('../data/dat_model.csv')\n",
    "inspection_df = pd.read_csv('../data/food_inspections.csv')"
   ]
  },
  {
   "cell_type": "code",
   "execution_count": 8,
   "metadata": {
    "collapsed": false
   },
   "outputs": [
    {
     "data": {
      "text/html": [
       "<div style=\"max-height:1000px;max-width:1500px;overflow:auto;\">\n",
       "<table border=\"1\" class=\"dataframe\">\n",
       "  <thead>\n",
       "    <tr style=\"text-align: right;\">\n",
       "      <th></th>\n",
       "      <th>Unnamed: 0</th>\n",
       "      <th>Inspection_Date</th>\n",
       "      <th>License</th>\n",
       "      <th>Inspection_ID</th>\n",
       "      <th>Business_ID</th>\n",
       "      <th>criticalCount</th>\n",
       "      <th>seriousCount</th>\n",
       "      <th>minorCount</th>\n",
       "      <th>Facility_Type</th>\n",
       "      <th>pass_flag</th>\n",
       "      <th>...</th>\n",
       "      <th>caterers_liquor_license</th>\n",
       "      <th>mobile_food_license</th>\n",
       "      <th>heat_burglary</th>\n",
       "      <th>heat_garbage</th>\n",
       "      <th>heat_sanitation</th>\n",
       "      <th>Inspector_Assigned</th>\n",
       "      <th>precipIntensity</th>\n",
       "      <th>temperatureMax</th>\n",
       "      <th>windSpeed</th>\n",
       "      <th>humidity</th>\n",
       "    </tr>\n",
       "  </thead>\n",
       "  <tbody>\n",
       "    <tr>\n",
       "      <th>0</th>\n",
       "      <td>1</td>\n",
       "      <td>15736</td>\n",
       "      <td>30790</td>\n",
       "      <td>269961</td>\n",
       "      <td>30790-20110416</td>\n",
       "      <td>0</td>\n",
       "      <td>0</td>\n",
       "      <td>2</td>\n",
       "      <td>Grocery_Store</td>\n",
       "      <td>1</td>\n",
       "      <td>...</td>\n",
       "      <td>0</td>\n",
       "      <td>0</td>\n",
       "      <td>26.992376</td>\n",
       "      <td>12.768572</td>\n",
       "      <td>37.748787</td>\n",
       "      <td>green</td>\n",
       "      <td>0.014587</td>\n",
       "      <td>53.496667</td>\n",
       "      <td>13.340000</td>\n",
       "      <td>0.900000</td>\n",
       "    </tr>\n",
       "    <tr>\n",
       "      <th>1</th>\n",
       "      <td>2</td>\n",
       "      <td>15265</td>\n",
       "      <td>1475890</td>\n",
       "      <td>507211</td>\n",
       "      <td>1475890-20110416</td>\n",
       "      <td>0</td>\n",
       "      <td>0</td>\n",
       "      <td>3</td>\n",
       "      <td>Restaurant</td>\n",
       "      <td>1</td>\n",
       "      <td>...</td>\n",
       "      <td>0</td>\n",
       "      <td>0</td>\n",
       "      <td>13.976557</td>\n",
       "      <td>12.895485</td>\n",
       "      <td>15.412267</td>\n",
       "      <td>blue</td>\n",
       "      <td>0.001907</td>\n",
       "      <td>59.046667</td>\n",
       "      <td>13.016667</td>\n",
       "      <td>0.550000</td>\n",
       "    </tr>\n",
       "    <tr>\n",
       "      <th>2</th>\n",
       "      <td>3</td>\n",
       "      <td>15265</td>\n",
       "      <td>1740130</td>\n",
       "      <td>507212</td>\n",
       "      <td>1740130-20110216</td>\n",
       "      <td>0</td>\n",
       "      <td>2</td>\n",
       "      <td>6</td>\n",
       "      <td>Restaurant</td>\n",
       "      <td>0</td>\n",
       "      <td>...</td>\n",
       "      <td>0</td>\n",
       "      <td>0</td>\n",
       "      <td>12.611239</td>\n",
       "      <td>8.004220</td>\n",
       "      <td>8.320330</td>\n",
       "      <td>blue</td>\n",
       "      <td>0.001907</td>\n",
       "      <td>59.046667</td>\n",
       "      <td>13.016667</td>\n",
       "      <td>0.550000</td>\n",
       "    </tr>\n",
       "    <tr>\n",
       "      <th>3</th>\n",
       "      <td>4</td>\n",
       "      <td>15266</td>\n",
       "      <td>1447363</td>\n",
       "      <td>507216</td>\n",
       "      <td>1447363-20110216</td>\n",
       "      <td>0</td>\n",
       "      <td>0</td>\n",
       "      <td>6</td>\n",
       "      <td>Restaurant</td>\n",
       "      <td>1</td>\n",
       "      <td>...</td>\n",
       "      <td>0</td>\n",
       "      <td>0</td>\n",
       "      <td>35.906383</td>\n",
       "      <td>26.238645</td>\n",
       "      <td>38.186618</td>\n",
       "      <td>blue</td>\n",
       "      <td>0.002737</td>\n",
       "      <td>56.153333</td>\n",
       "      <td>10.863333</td>\n",
       "      <td>0.616667</td>\n",
       "    </tr>\n",
       "    <tr>\n",
       "      <th>4</th>\n",
       "      <td>5</td>\n",
       "      <td>15267</td>\n",
       "      <td>1679459</td>\n",
       "      <td>507219</td>\n",
       "      <td>1679459-20100216</td>\n",
       "      <td>0</td>\n",
       "      <td>2</td>\n",
       "      <td>6</td>\n",
       "      <td>Restaurant</td>\n",
       "      <td>0</td>\n",
       "      <td>...</td>\n",
       "      <td>0</td>\n",
       "      <td>0</td>\n",
       "      <td>9.530785</td>\n",
       "      <td>3.401567</td>\n",
       "      <td>2.126788</td>\n",
       "      <td>blue</td>\n",
       "      <td>0.009987</td>\n",
       "      <td>52.730000</td>\n",
       "      <td>16.266667</td>\n",
       "      <td>0.690000</td>\n",
       "    </tr>\n",
       "  </tbody>\n",
       "</table>\n",
       "<p>5 rows × 39 columns</p>\n",
       "</div>"
      ],
      "text/plain": [
       "   Unnamed: 0  Inspection_Date  License  Inspection_ID       Business_ID  \\\n",
       "0           1            15736    30790         269961    30790-20110416   \n",
       "1           2            15265  1475890         507211  1475890-20110416   \n",
       "2           3            15265  1740130         507212  1740130-20110216   \n",
       "3           4            15266  1447363         507216  1447363-20110216   \n",
       "4           5            15267  1679459         507219  1679459-20100216   \n",
       "\n",
       "   criticalCount  seriousCount  minorCount  Facility_Type  pass_flag  \\\n",
       "0              0             0           2  Grocery_Store          1   \n",
       "1              0             0           3     Restaurant          1   \n",
       "2              0             2           6     Restaurant          0   \n",
       "3              0             0           6     Restaurant          1   \n",
       "4              0             2           6     Restaurant          0   \n",
       "\n",
       "     ...     caterers_liquor_license  mobile_food_license  heat_burglary  \\\n",
       "0    ...                           0                    0      26.992376   \n",
       "1    ...                           0                    0      13.976557   \n",
       "2    ...                           0                    0      12.611239   \n",
       "3    ...                           0                    0      35.906383   \n",
       "4    ...                           0                    0       9.530785   \n",
       "\n",
       "   heat_garbage  heat_sanitation  Inspector_Assigned  precipIntensity  \\\n",
       "0     12.768572        37.748787               green         0.014587   \n",
       "1     12.895485        15.412267                blue         0.001907   \n",
       "2      8.004220         8.320330                blue         0.001907   \n",
       "3     26.238645        38.186618                blue         0.002737   \n",
       "4      3.401567         2.126788                blue         0.009987   \n",
       "\n",
       "  temperatureMax  windSpeed  humidity  \n",
       "0      53.496667  13.340000  0.900000  \n",
       "1      59.046667  13.016667  0.550000  \n",
       "2      59.046667  13.016667  0.550000  \n",
       "3      56.153333  10.863333  0.616667  \n",
       "4      52.730000  16.266667  0.690000  \n",
       "\n",
       "[5 rows x 39 columns]"
      ]
     },
     "execution_count": 8,
     "metadata": {},
     "output_type": "execute_result"
    }
   ],
   "source": [
    "weather_df.head()"
   ]
  },
  {
   "cell_type": "code",
   "execution_count": 13,
   "metadata": {
    "collapsed": false
   },
   "outputs": [
    {
     "name": "stdout",
     "output_type": "stream",
     "text": [
      "(27600, 39)\n"
     ]
    }
   ],
   "source": [
    "print weather_df.shape"
   ]
  },
  {
   "cell_type": "code",
   "execution_count": 17,
   "metadata": {
    "collapsed": false
   },
   "outputs": [
    {
     "data": {
      "image/png": "[encoded data removed]",
      "text/plain": [
       "<matplotlib.figure.Figure at 0x113547190>"
      ]
     },
     "metadata": {},
     "output_type": "display_data"
    }
   ],
   "source": [
    "plt.figure()\n",
    "plt.title(\"Infractions vs Wind Speed\")\n",
    "plt.scatter(weather_df['windSpeed'], weather_df['minorCount'] + weather_df['criticalCount'] + weather_df['seriousCount'])\n",
    "plt.show()"
   ]
  }
 ],
 "metadata": {
  "kernelspec": {
   "display_name": "Python 2",
   "language": "python",
   "name": "python2"
  },
  "language_info": {
   "codemirror_mode": {
    "name": "ipython",
    "version": 2
   },
   "file_extension": ".py",
   "mimetype": "text/x-python",
   "name": "python",
   "nbconvert_exporter": "python",
   "pygments_lexer": "ipython2",
   "version": "2.7.11"
  }
 },
 "nbformat": 4,
 "nbformat_minor": 0
}
